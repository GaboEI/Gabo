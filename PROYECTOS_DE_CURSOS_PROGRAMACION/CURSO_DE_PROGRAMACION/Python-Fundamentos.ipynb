{
 "cells": [
  {
   "cell_type": "markdown",
   "metadata": {},
   "source": [
    "# Curso Básico de Python\n"
   ]
  },
  {
   "cell_type": "markdown",
   "metadata": {},
   "source": [
    "Python es un lenguaje de programación interpretado cuya filosofía hace hincapié en la legibilidad de su código. Se trata de un lenguaje de programación multiparadigma, ya que soporta orientación a objetos, programación imperativa y, en menor medida, programación funcional. Es un lenguaje interpretado, dinámico y multiplataforma.\n",
    "\n",
    "Es administrado por la Python Software Foundation. Posee una licencia de código abierto, denominada Python Software Foundation License.\n",
    "\n",
    "Fuente: https://es.wikipedia.org/wiki/Python\n"
   ]
  },
  {
   "cell_type": "markdown",
   "metadata": {},
   "source": [
    "## Finalidad del curso "
   ]
  },
  {
   "cell_type": "markdown",
   "metadata": {},
   "source": [
    "En este curso se trabajara con ejemplos sencillos y prácticos para ver la funcionalidad y aplicación del lenguaje de programación Python desde los terminos y conceptos más básicos hasta llegando a un nivel intermedio avanzado siendo un guia de Python en idioma español lo más completa posible y paso a paso para que todos los interesados en aprender este lenguaje puedan lograrlo de manera satisfactoria.\n"
   ]
  },
  {
   "cell_type": "markdown",
   "metadata": {},
   "source": [
    "En esta parte por el momento se agregaran problemas resueltos que podran probar replicandolos en sus propias computadoras."
   ]
  },
  {
   "cell_type": "markdown",
   "metadata": {},
   "source": [
    "Mediaticamente se subirá más contenido para seguir reforzando el aprendizaje de dicho lenguaje de programación."
   ]
  },
  {
   "cell_type": "markdown",
   "metadata": {},
   "source": [
    "#### Nuestro primer Hola Mundo"
   ]
  },
  {
   "cell_type": "markdown",
   "metadata": {},
   "source": [
    "Para comenzar solo basta con tener en este caso Jupyter Notebook en nuestra pc para poder trabajar con este lenguaje por el momento. Aunque tambien se puede buscar otras opciones y trabajar con Visual Studio Code, Sublime Text, Atom, PyCharm, entre otros editores para poder programar en Python.\n"
   ]
  },
  {
   "cell_type": "markdown",
   "metadata": {},
   "source": [
    "Si se trabajará de forma local con algunos de los editores anteriormente mencionados se hace la recomendación de descargar Python en la página oficial.\n",
    "Fuente: https://www.python.org/downloads/"
   ]
  },
  {
   "cell_type": "code",
   "execution_count": 3,
   "metadata": {},
   "outputs": [
    {
     "name": "stdout",
     "output_type": "stream",
     "text": [
      "Hola Mundo desde Python, somos unos cracks!!\n"
     ]
    }
   ],
   "source": [
    "#Nuestro primer contacto con Python\n",
    "\n",
    "print(\"Hola Mundo desde Python, somos unos cracks!!\")"
   ]
  },
  {
   "cell_type": "markdown",
   "metadata": {},
   "source": [
    "#### Variables en Python"
   ]
  },
  {
   "cell_type": "markdown",
   "metadata": {},
   "source": [
    "Las variables se definen de forma dinámica, lo que significa que no se tiene que especificar cuál es su tipo de antemano y puede tomar distintos valores en otro momento, incluso de un tipo diferente al que tenía previamente. Se usa el símbolo = para asignar valores."
   ]
  },
  {
   "cell_type": "code",
   "execution_count": 4,
   "metadata": {},
   "outputs": [
    {
     "name": "stdout",
     "output_type": "stream",
     "text": [
      "3\n",
      "5\n",
      "8\n",
      "8\n"
     ]
    },
    {
     "data": {
      "text/plain": [
       "140709070545360"
      ]
     },
     "execution_count": 4,
     "metadata": {},
     "output_type": "execute_result"
    }
   ],
   "source": [
    "#Hacemos operaciones básicas con declaración de variables\n",
    "x = 3\n",
    "y = 5\n",
    "z = x + y\n",
    "print(x)\n",
    "print(y)\n",
    "print(z)\n",
    "w = z\n",
    "print(w)\n",
    "\n",
    "# La función id no se pude mandar a llamar directamete de VSCode u otro editor de texto, solo corre en el interprete de Python.\n",
    "id(x) \n"
   ]
  },
  {
   "cell_type": "markdown",
   "metadata": {},
   "source": [
    "#### Tipos de datos "
   ]
  },
  {
   "cell_type": "markdown",
   "metadata": {},
   "source": [
    "Se resume todo el la siguiente tabla:"
   ]
  },
  {
   "attachments": {
    "tipos_de_datos_python.jpg": {
     "image/jpeg": "[encoded data removed]"
    }
   },
   "cell_type": "markdown",
   "metadata": {},
   "source": [
    "![tipos_de_datos_python.jpg](attachment:tipos_de_datos_python.jpg)"
   ]
  },
  {
   "cell_type": "markdown",
   "metadata": {},
   "source": [
    "Fuente: https://es.wikipedia.org/wiki/Python#Tipos_de_datos"
   ]
  },
  {
   "cell_type": "code",
   "execution_count": 7,
   "metadata": {},
   "outputs": [
    {
     "name": "stdout",
     "output_type": "stream",
     "text": [
      "5\n",
      "12.33\n",
      "True\n",
      "Saludos a todos desde Python!!!\n"
     ]
    }
   ],
   "source": [
    "#Enteros\n",
    "x = 5\n",
    "\n",
    "#Flotantes\n",
    "y = 12.33 # Llevan números con punto decimal\n",
    "\n",
    "#Booleanos (True/False)\n",
    "z = True # siempre lleva la primera letra Mayuscula\n",
    "\n",
    "#Ahora imprimimos todos los valores anteriores\n",
    "\n",
    "print(x)\n",
    "print(y)\n",
    "print(z)\n",
    "\n",
    "#La función type no se puede mandar a llamar directamente en VSCode o cualuqier otro editor, se hace desde consola de Python\n",
    "type(x)\n",
    "\n",
    "#Strings (cadenas de texto)\n",
    "a = \"Saludos a todos desde Python!!!\"\n",
    "print(a)\n",
    "  "
   ]
  },
  {
   "cell_type": "markdown",
   "metadata": {},
   "source": [
    "Aquí dejamos un ejemplo de lo que seria mandar llamar la función type() de cualquier variable en la consola de Python."
   ]
  },
  {
   "attachments": {
    "terminal_tipos_de_datos_python.jpg": {
     "image/jpeg": "[encoded data removed]"
    }
   },
   "cell_type": "markdown",
   "metadata": {},
   "source": [
    "![terminal_tipos_de_datos_python.jpg](attachment:terminal_tipos_de_datos_python.jpg)"
   ]
  },
  {
   "cell_type": "markdown",
   "metadata": {},
   "source": [
    "#### Tipo string"
   ]
  },
  {
   "cell_type": "code",
   "execution_count": 8,
   "metadata": {},
   "outputs": [
    {
     "name": "stdout",
     "output_type": "stream",
     "text": [
      "AC-DC\n"
     ]
    }
   ],
   "source": [
    "#Usando una cadena de texto (string), por ejemplo mi grupo favorito.\n",
    "cadena = \"AC-DC\"\n",
    "print(cadena) "
   ]
  },
  {
   "cell_type": "code",
   "execution_count": 9,
   "metadata": {},
   "outputs": [
    {
     "name": "stdout",
     "output_type": "stream",
     "text": [
      "Mi grupo favorito es: AC-DC\n"
     ]
    }
   ],
   "source": [
    "#Aplicando el mismo termino pero ahora concatenando\n",
    "cadena = \"AC-DC\"\n",
    "print(\"Mi grupo favorito es: \" + cadena) #concatenamos dos cadenas de texto"
   ]
  },
  {
   "cell_type": "code",
   "execution_count": 11,
   "metadata": {},
   "outputs": [
    {
     "name": "stdout",
     "output_type": "stream",
     "text": [
      "12\n"
     ]
    }
   ],
   "source": [
    "#Otro ejemplo\n",
    "numero_1 = \"1\"\n",
    "numero_2 = \"2\"\n",
    "print(numero_1 + numero_2) #Mostrará solo 12 ya que no es una operación aritmetica"
   ]
  },
  {
   "cell_type": "code",
   "execution_count": 12,
   "metadata": {},
   "outputs": [
    {
     "name": "stdout",
     "output_type": "stream",
     "text": [
      "3\n"
     ]
    }
   ],
   "source": [
    "#Pero si queremos que realice la suma es de la siguiente manera:\n",
    "num_1 = 1\n",
    "num_2 = 2\n",
    "print(num_1 + num_2)  #Aquí mostrará solo el resultado de la suma que es igual a 3."
   ]
  },
  {
   "cell_type": "code",
   "execution_count": 15,
   "metadata": {},
   "outputs": [
    {
     "name": "stdout",
     "output_type": "stream",
     "text": [
      "Resultado de la operación suma:  3\n"
     ]
    }
   ],
   "source": [
    "#No podemos concatenar srings y enteros porque marcaria un error.\n",
    "#Pero podemos hacer uso de ambos al mismo tiempo de la siguiente manera, mediante la coma.\n",
    "numer_1 = 1\n",
    "numer_2 = 2\n",
    "print(\"Resultado de la operación suma: \", numer_1 + numer_2)"
   ]
  },
  {
   "cell_type": "code",
   "execution_count": 16,
   "metadata": {},
   "outputs": [
    {
     "name": "stdout",
     "output_type": "stream",
     "text": [
      "Resultado de la operación suma: 3\n"
     ]
    }
   ],
   "source": [
    "#Otra forma de tener el mismo resultado del ejemplo anterior \n",
    "nu_1 = 1\n",
    "nu_2 = 2\n",
    "print(\"Resultado de la operación suma: \" + str(nu_1 + nu_2))"
   ]
  },
  {
   "cell_type": "markdown",
   "metadata": {},
   "source": [
    "Cabe mencionar que todos los ejemplos aquí mostrados los pueden modificar a su gusto para que puedan probar en su pc descargando el notebook para ver que cambios que hay y como se comporta el código."
   ]
  },
  {
   "cell_type": "markdown",
   "metadata": {},
   "source": [
    "#### Tipo Booleano "
   ]
  },
  {
   "cell_type": "code",
   "execution_count": 17,
   "metadata": {},
   "outputs": [
    {
     "name": "stdout",
     "output_type": "stream",
     "text": [
      "True\n",
      "False\n"
     ]
    }
   ],
   "source": [
    "#Aqui usamos los booleanos (True/False)disponibles\n",
    "#Podemos hacer lo mismo en la consola/terminal de Python para saber de que tipo son\n",
    "x = True\n",
    "print(x)\n",
    "\n",
    "y = False\n",
    "print(y)"
   ]
  },
  {
   "cell_type": "code",
   "execution_count": 19,
   "metadata": {},
   "outputs": [
    {
     "name": "stdout",
     "output_type": "stream",
     "text": [
      "True\n"
     ]
    }
   ],
   "source": [
    "#Otro ejemplo haciendo uso de operadores relacionales (<>, menor o mayor)\n",
    "num1 = 1\n",
    "num2 = 2\n",
    "resultado = num1 < num2\n",
    "print(resultado) #Debe ser el resultado \"True\" por que 1 es menor que 2."
   ]
  },
  {
   "cell_type": "code",
   "execution_count": 20,
   "metadata": {},
   "outputs": [
    {
     "name": "stdout",
     "output_type": "stream",
     "text": [
      "False\n"
     ]
    }
   ],
   "source": [
    "#Invirtiendo el operador\n",
    "num_1 = 1\n",
    "num_2 = 2\n",
    "resultado = num_1 > num_2\n",
    "print(resultado) #Debe ser el resultado \"False\" por que 2 es mayor que 1."
   ]
  },
  {
   "cell_type": "code",
   "execution_count": 21,
   "metadata": {},
   "outputs": [
    {
     "name": "stdout",
     "output_type": "stream",
     "text": [
      "El valor num_1 NO es menor que num_2\n"
     ]
    }
   ],
   "source": [
    "#Haciendo uso del ejemplo pasado para aplicarlo en condicionales if/else.\n",
    "if (num_1 > num_2): #Aqui podemos o no invertir el operador relacional pero es recomendable hacerlo para que se demuestre el funcionamiento.\n",
    "    print(\"El valor num_1 es menor que num_2\")\n",
    "else:\n",
    "    print(\"El valor num_1 NO es menor que num_2\")"
   ]
  },
  {
   "cell_type": "code",
   "execution_count": 22,
   "metadata": {},
   "outputs": [
    {
     "name": "stdout",
     "output_type": "stream",
     "text": [
      "El valor num_1 es menor que num_2\n"
     ]
    }
   ],
   "source": [
    "#Haciendo uso del ejemplo pasado para aplicarlo en condicionales if/else.\n",
    "if (num_1 < num_2): #Aqui podemos o no invertir el operador relacional pero es recomendable hacerlo para que se demuestre el funcionamiento.\n",
    "    print(\"El valor num_1 es menor que num_2\")\n",
    "else:\n",
    "    print(\"El valor num_1 NO es menor que num_2\")"
   ]
  },
  {
   "cell_type": "markdown",
   "metadata": {},
   "source": [
    "#### Entrada de datos"
   ]
  },
  {
   "cell_type": "code",
   "execution_count": 25,
   "metadata": {},
   "outputs": [
    {
     "name": "stdout",
     "output_type": "stream",
     "text": [
      "Hola, aquí metí mi saludo jaja\n",
      "Hola, aquí metí mi saludo jaja\n"
     ]
    }
   ],
   "source": [
    "#Se hace desde la terminal\n",
    "resultado = str(input()) #Lo que pongamos aquí se vera reflejado de iguañ forma en la impresión. Asi que tendremos lo mismo en entra y salida.\n",
    "print(resultado)\n",
    "\n"
   ]
  },
  {
   "cell_type": "code",
   "execution_count": 2,
   "metadata": {},
   "outputs": [
    {
     "name": "stdout",
     "output_type": "stream",
     "text": [
      "3\n",
      "4\n",
      "7\n"
     ]
    }
   ],
   "source": [
    "#Otro ejemplo sencillo pero práctico donde meteremos números enteros\n",
    "num1 = int(input())\n",
    "#print(num1)\n",
    "\n",
    "num2 = int(input())\n",
    "#print(num2)\n",
    "\n",
    "print(num1 + num2) #Debe salir la suma de los datos ingresados en num1 y num2, si quieres imprimir los datos puedes quitar el comentario en los print de cada uno de ellos."
   ]
  },
  {
   "cell_type": "code",
   "execution_count": 4,
   "metadata": {},
   "outputs": [
    {
     "name": "stdout",
     "output_type": "stream",
     "text": [
      "Proporciona un valor: 34\n",
      "El resultado es:  34\n"
     ]
    }
   ],
   "source": [
    "#Poniendo mensajes y concatenando\n",
    "resultado =input(\"Proporciona un valor: \")\n",
    "print(\"El resultado es: \", resultado) #debe imprimir extactamente el valor ingresado, esto se puede aplicar a ejemplos más complejos."
   ]
  },
  {
   "cell_type": "markdown",
   "metadata": {},
   "source": [
    "#### Operadores Aritmeticos "
   ]
  },
  {
   "cell_type": "code",
   "execution_count": 5,
   "metadata": {},
   "outputs": [
    {
     "name": "stdout",
     "output_type": "stream",
     "text": [
      "suma:  5\n"
     ]
    }
   ],
   "source": [
    "#Realizamos la operación suma\n",
    "a = 3 \n",
    "b = 2\n",
    "suma = a + b \n",
    "print(\"suma: \", suma)"
   ]
  },
  {
   "cell_type": "code",
   "execution_count": 6,
   "metadata": {},
   "outputs": [
    {
     "name": "stdout",
     "output_type": "stream",
     "text": [
      "resta:  1\n"
     ]
    }
   ],
   "source": [
    "#Realizamos la operación resta\n",
    "resta = a - b\n",
    "print(\"resta: \", resta)"
   ]
  },
  {
   "cell_type": "code",
   "execution_count": 7,
   "metadata": {},
   "outputs": [
    {
     "name": "stdout",
     "output_type": "stream",
     "text": [
      "multiplicación:  6\n"
     ]
    }
   ],
   "source": [
    "#Realizamos la operacion multiplicación\n",
    "multiplicacion = a * b\n",
    "print(\"multiplicación: \", multiplicacion)"
   ]
  },
  {
   "cell_type": "code",
   "execution_count": 8,
   "metadata": {},
   "outputs": [
    {
     "name": "stdout",
     "output_type": "stream",
     "text": [
      "división:  1.5\n"
     ]
    }
   ],
   "source": [
    "#Realizamos la operación división\n",
    "division = a / b\n",
    "print(\"división: \", division)"
   ]
  },
  {
   "cell_type": "code",
   "execution_count": 9,
   "metadata": {},
   "outputs": [
    {
     "name": "stdout",
     "output_type": "stream",
     "text": [
      "modulo:  1\n"
     ]
    }
   ],
   "source": [
    "#Usamos el operador de modulo (es el residuo de la división).\n",
    "modulo = a % b\n",
    "print(\"modulo: \", modulo)"
   ]
  },
  {
   "cell_type": "code",
   "execution_count": 11,
   "metadata": {},
   "outputs": [
    {
     "name": "stdout",
     "output_type": "stream",
     "text": [
      "exponente:  9\n"
     ]
    }
   ],
   "source": [
    "#Usamos el operador exponente\n",
    "exponente = a ** b\n",
    "print(\"exponente: \", exponente)"
   ]
  },
  {
   "cell_type": "markdown",
   "metadata": {},
   "source": [
    "#### Operadores de Asignación"
   ]
  },
  {
   "cell_type": "code",
   "execution_count": 12,
   "metadata": {},
   "outputs": [
    {
     "name": "stdout",
     "output_type": "stream",
     "text": [
      "3\n"
     ]
    }
   ],
   "source": [
    "#Este operador en esencia ya se ha usado  es \"=\", pero aqui lo mostramos de manera compuesta\n",
    "x = 3\n",
    "print(x) #Tiene que dar 3 de resultado"
   ]
  },
  {
   "cell_type": "code",
   "execution_count": 16,
   "metadata": {},
   "outputs": [
    {
     "name": "stdout",
     "output_type": "stream",
     "text": [
      "5\n"
     ]
    }
   ],
   "source": [
    "x = 3\n",
    "\n",
    "# x = x + 2     Aqui se muestra un ejemplo explicito de lo que significa la siguiente operación\n",
    "x += 2\n",
    "print(x) # Tiene que dar 5 de resultado, todos los resultados son con respecto a la primera declaración de valor (x = 3)."
   ]
  },
  {
   "cell_type": "code",
   "execution_count": 1,
   "metadata": {},
   "outputs": [
    {
     "name": "stdout",
     "output_type": "stream",
     "text": [
      "4\n"
     ]
    }
   ],
   "source": [
    "x = 5\n",
    "\n",
    "# x = x -1\n",
    "x -= 1\n",
    "print(x) # Tiene que dar 4 de resultado"
   ]
  },
  {
   "cell_type": "code",
   "execution_count": 2,
   "metadata": {},
   "outputs": [
    {
     "name": "stdout",
     "output_type": "stream",
     "text": [
      "12\n"
     ]
    }
   ],
   "source": [
    "x = 4\n",
    "\n",
    "# x = x * 3\n",
    "x *= 3\n",
    "print(x) # Tiene que dar 12 de resultado"
   ]
  },
  {
   "cell_type": "code",
   "execution_count": 5,
   "metadata": {},
   "outputs": [
    {
     "name": "stdout",
     "output_type": "stream",
     "text": [
      "6.0\n"
     ]
    }
   ],
   "source": [
    "x = 12\n",
    "\n",
    "# x = x / 2\n",
    "x /= 2\n",
    "print(x) #Tiene que dar 6 de resultado"
   ]
  },
  {
   "cell_type": "markdown",
   "metadata": {},
   "source": [
    "#### Operadores de comparación"
   ]
  },
  {
   "cell_type": "code",
   "execution_count": 7,
   "metadata": {},
   "outputs": [
    {
     "name": "stdout",
     "output_type": "stream",
     "text": [
      "False\n"
     ]
    }
   ],
   "source": [
    "#Hacemos uso de operador de comparación de igualdad, aunque es uno de los que ya hemos usado anteriormente.\n",
    "a = 3\n",
    "b = 2\n",
    "resultado = a == b\n",
    "print(resultado) #Debemos obtener un booleano, False.\n"
   ]
  },
  {
   "cell_type": "code",
   "execution_count": 8,
   "metadata": {},
   "outputs": [
    {
     "name": "stdout",
     "output_type": "stream",
     "text": [
      "True\n"
     ]
    }
   ],
   "source": [
    "#Reciclando el mismo ejemplo anterior pero ahora con los mismos valores\n",
    "a = 3\n",
    "b = 3\n",
    "resultado = a == b\n",
    "print(resultado) #Debemos obtener un booleano, True."
   ]
  },
  {
   "cell_type": "code",
   "execution_count": 9,
   "metadata": {},
   "outputs": [
    {
     "name": "stdout",
     "output_type": "stream",
     "text": [
      "True\n"
     ]
    }
   ],
   "source": [
    "#Hacemos uso de operador diferente\n",
    "a = 3\n",
    "b = 2\n",
    "resultado = a != b\n",
    "print(resultado) #Debemos obtener un booleano, True."
   ]
  },
  {
   "cell_type": "code",
   "execution_count": 10,
   "metadata": {},
   "outputs": [
    {
     "name": "stdout",
     "output_type": "stream",
     "text": [
      "False\n"
     ]
    }
   ],
   "source": [
    "#Reciclando el mismo ejemplo anterior pero ahora con los mismos valores\n",
    "a = 3\n",
    "b = 3\n",
    "resultado = a != b\n",
    "print(resultado) #Debemos obtener un booleano, False."
   ]
  },
  {
   "cell_type": "code",
   "execution_count": 11,
   "metadata": {},
   "outputs": [
    {
     "name": "stdout",
     "output_type": "stream",
     "text": [
      "True\n"
     ]
    }
   ],
   "source": [
    "#Hacemos uso de operador mayor que \">\"\n",
    "a = 3\n",
    "b = 2\n",
    "resultado = a > b\n",
    "print(resultado) #Debemos obtener un booleano, True."
   ]
  },
  {
   "cell_type": "code",
   "execution_count": 12,
   "metadata": {},
   "outputs": [
    {
     "name": "stdout",
     "output_type": "stream",
     "text": [
      "False\n"
     ]
    }
   ],
   "source": [
    "#Hacemos uso de operador menor que \"<\"\n",
    "a = 3\n",
    "b = 2\n",
    "resultado = a < b\n",
    "print(resultado) #Debemos obtener un booleano, False."
   ]
  },
  {
   "cell_type": "code",
   "execution_count": 13,
   "metadata": {},
   "outputs": [
    {
     "name": "stdout",
     "output_type": "stream",
     "text": [
      "False\n"
     ]
    }
   ],
   "source": [
    "#Hacemos uso de operador menor o igual que \"<=\"\n",
    "a = 3\n",
    "b = 2\n",
    "resultado = a <= b\n",
    "print(resultado) #Debemos obtener un booleano, False."
   ]
  },
  {
   "cell_type": "code",
   "execution_count": 14,
   "metadata": {},
   "outputs": [
    {
     "name": "stdout",
     "output_type": "stream",
     "text": [
      "True\n"
     ]
    }
   ],
   "source": [
    "#Hacemos uso de operador menor o igual que \"<=\"\n",
    "a = 3\n",
    "b = 3\n",
    "resultado = a <= b\n",
    "print(resultado) #Debemos obtener un booleano, True."
   ]
  },
  {
   "cell_type": "code",
   "execution_count": 15,
   "metadata": {},
   "outputs": [
    {
     "name": "stdout",
     "output_type": "stream",
     "text": [
      "Es impar\n"
     ]
    }
   ],
   "source": [
    "#Hacemos uso de condicionales\n",
    "a = 3\n",
    "b = 2\n",
    "\n",
    "if a%2 == 0:\n",
    "    print(\"Es par\")\n",
    "else:\n",
    "    print(\"Es impar\") #El resultado deberia ser \"impar\" ya que hay un residuo de 1."
   ]
  },
  {
   "cell_type": "code",
   "execution_count": 16,
   "metadata": {},
   "outputs": [
    {
     "name": "stdout",
     "output_type": "stream",
     "text": [
      "Es par\n"
     ]
    }
   ],
   "source": [
    "#Hacemos uso de condicionales\n",
    "a = 4\n",
    "b = 2\n",
    "\n",
    "if a%2 == 0:\n",
    "    print(\"Es par\") #Debe de ejecutarse el bloque de codigo de if ya que es un numero par y el residuo es de 0.\n",
    "else:\n",
    "    print(\"Es impar\")"
   ]
  },
  {
   "cell_type": "code",
   "execution_count": 17,
   "metadata": {},
   "outputs": [
    {
     "name": "stdout",
     "output_type": "stream",
     "text": [
      "Es menor de edad\n"
     ]
    }
   ],
   "source": [
    "#Un ejemplo de aplicación sencillo\n",
    "edadLimite = 18\n",
    "edadPersona = 8 #Podemos jugar un poco con este valor para probar la funcionalidad del codigo y saber si queda en adulto o menor de edad(opcionesa probar, 30, 18 y 7).\n",
    "if (edadPersona >= edadLimite):\n",
    "    print(\"Es un adulto\")\n",
    "else:\n",
    "    print(\"Es menor de edad\")"
   ]
  },
  {
   "cell_type": "code",
   "execution_count": 18,
   "metadata": {},
   "outputs": [
    {
     "name": "stdout",
     "output_type": "stream",
     "text": [
      "Es un adulto\n"
     ]
    }
   ],
   "source": [
    "#Un ejemplo de aplicación sencillo\n",
    "edadLimite = 18\n",
    "edadPersona = 18 #Podemos jugar un poco con este valor para probar la funcionalidad del codigo y saber si queda en adulto o menor de edad(opcionesa probar, 30, 18 y 7).\n",
    "if (edadPersona >= edadLimite):\n",
    "    print(\"Es un adulto\")\n",
    "else:\n",
    "    print(\"Es menor de edad\")"
   ]
  },
  {
   "cell_type": "code",
   "execution_count": 19,
   "metadata": {},
   "outputs": [
    {
     "name": "stdout",
     "output_type": "stream",
     "text": [
      "Es un adulto\n"
     ]
    }
   ],
   "source": [
    "#Un ejemplo de aplicación sencillo\n",
    "edadLimite = 18\n",
    "edadPersona = 42 #Podemos jugar un poco con este valor para probar la funcionalidad del codigo y saber si queda en adulto o menor de edad(opcionesa probar, 30, 18 y 7).\n",
    "if (edadPersona >= edadLimite):\n",
    "    print(\"Es un adulto\")\n",
    "else:\n",
    "    print(\"Es menor de edad\")"
   ]
  },
  {
   "cell_type": "markdown",
   "metadata": {},
   "source": [
    "#### Operadores lógicos"
   ]
  },
  {
   "cell_type": "code",
   "execution_count": 20,
   "metadata": {},
   "outputs": [
    {
     "name": "stdout",
     "output_type": "stream",
     "text": [
      "True\n"
     ]
    }
   ],
   "source": [
    "#Primer ejemplo de operardor lógico \"and\"\n",
    "a = 3 #Podemos mover este valor para checar resultado, pero cualquier valor fuera de rango marcara como resultado, False.\n",
    "valorMinimo = 0\n",
    "valorMaximo = 5\n",
    "dentroRango = (a >= valorMinimo and a <= valorMaximo)\n",
    "print(dentroRango) #Debemos obtener como resultado un booleno, True."
   ]
  },
  {
   "cell_type": "code",
   "execution_count": 25,
   "metadata": {},
   "outputs": [
    {
     "name": "stdout",
     "output_type": "stream",
     "text": [
      "Fuera de rango\n"
     ]
    }
   ],
   "source": [
    "#Segundo ejemplo\n",
    "a = 10 #Podemos mover este valor para checar resultado, pero cualquier valor fuera de rango marcara como resultado, False.\n",
    "valorMinimo = 0\n",
    "valorMaximo = 5\n",
    "dentroRango = (a >= valorMinimo and a <= valorMaximo)\n",
    "if (dentroRango):\n",
    "    print(\"Dentro de rango\")\n",
    "else:\n",
    "    print(\"Fuera de rango\") #En este caso debe imprimir \"fuera de rango\""
   ]
  },
  {
   "cell_type": "code",
   "execution_count": 26,
   "metadata": {},
   "outputs": [
    {
     "name": "stdout",
     "output_type": "stream",
     "text": [
      "Proporciona un valor: 34\n",
      "Fuera de rango\n"
     ]
    }
   ],
   "source": [
    "#Tercer ejemplo\n",
    "a = int(input(\"Proporciona un valor: \")) #Acepta cualquier valor entero\n",
    "valorMinimo = 0\n",
    "valorMaximo = 5\n",
    "dentroRango = (a >= valorMinimo and a <= valorMaximo)\n",
    "if (dentroRango):\n",
    "    print(\"Dentro de rango\")\n",
    "else:\n",
    "    print(\"Fuera de rango\")"
   ]
  },
  {
   "cell_type": "code",
   "execution_count": 1,
   "metadata": {},
   "outputs": [
    {
     "name": "stdout",
     "output_type": "stream",
     "text": [
      "Proporciona un valor: 3.333\n",
      "Dentro de rango\n"
     ]
    }
   ],
   "source": [
    "#Cuarto ejemplo\n",
    "a = float(input(\"Proporciona un valor: \")) #Acepta cualquier valor entero o flotante.\n",
    "valorMinimo = 0\n",
    "valorMaximo = 5\n",
    "dentroRango = (a >= valorMinimo and a <= valorMaximo)\n",
    "if (dentroRango):\n",
    "    print(\"Dentro de rango\")\n",
    "else:\n",
    "    print(\"Fuera de rango\")\n",
    "    "
   ]
  },
  {
   "cell_type": "code",
   "execution_count": 2,
   "metadata": {},
   "outputs": [
    {
     "name": "stdout",
     "output_type": "stream",
     "text": [
      "Tienes deberes que hacer\n"
     ]
    }
   ],
   "source": [
    "#Quinto ejemplo con operador lógico \"or\"\n",
    "vacaciones = False\n",
    "diaDescanso = False\n",
    "if (vacaciones or diaDescanso):\n",
    "    print(\"Puedes ir al parque\")\n",
    "else:\n",
    "    print(\"Tienes deberes que hacer\") #En este caso en particular se ejecuta el código de \"else\""
   ]
  },
  {
   "cell_type": "code",
   "execution_count": 3,
   "metadata": {},
   "outputs": [
    {
     "name": "stdout",
     "output_type": "stream",
     "text": [
      "Puedes ir al parque\n"
     ]
    }
   ],
   "source": [
    "#Sexto ejemplo\n",
    "vacaciones = True\n",
    "diaDescanso = False\n",
    "if (vacaciones or diaDescanso):\n",
    "    print(\"Puedes ir al parque\") #Cuando una de las 2 opciones es True, podras ir al parque.\n",
    "else:\n",
    "    print(\"Tienes deberes que hacer\")"
   ]
  },
  {
   "cell_type": "code",
   "execution_count": 4,
   "metadata": {},
   "outputs": [
    {
     "name": "stdout",
     "output_type": "stream",
     "text": [
      "Puedes ir al parque\n"
     ]
    }
   ],
   "source": [
    "#Septimo ejemplo\n",
    "vacaciones = False\n",
    "diaDescanso = True\n",
    "if (vacaciones or diaDescanso):\n",
    "    print(\"Puedes ir al parque\") #Cuando una de las 2 opciones es True, podras ir al parque.\n",
    "else:\n",
    "    print(\"Tienes deberes que hacer\")"
   ]
  },
  {
   "cell_type": "code",
   "execution_count": 5,
   "metadata": {},
   "outputs": [
    {
     "name": "stdout",
     "output_type": "stream",
     "text": [
      "Puedes ir al parque\n",
      "True\n"
     ]
    }
   ],
   "source": [
    "#Octavo ejemplo usando operador \"not\", sirve para invertir la lógica del algoritmo.\n",
    "vacaciones = False\n",
    "diaDescanso =False\n",
    "if ( vacaciones or diaDescanso):\n",
    "    print(\"Tienes deberes que hacer\")\n",
    "else:\n",
    "    print(\"Puedes ir al parque\")\n",
    "\n",
    "print(not(vacaciones)) #En este ajemplo en particular se invierte la declaracion de False en vacaciones y el resultado deberia ser True."
   ]
  },
  {
   "cell_type": "code",
   "execution_count": 6,
   "metadata": {},
   "outputs": [
    {
     "name": "stdout",
     "output_type": "stream",
     "text": [
      "Tienes deberes que hacer\n"
     ]
    }
   ],
   "source": [
    "#Noveno ejemplo\n",
    "vacaciones = False\n",
    "diaDescanso =False\n",
    "if ( not(vacaciones or diaDescanso)):\n",
    "    print(\"Tienes deberes que hacer\")# Esta linea de codigo es la que debe imprimirse.\n",
    "else:\n",
    "    print(\"Puedes ir al parque\")"
   ]
  },
  {
   "cell_type": "code",
   "execution_count": 7,
   "metadata": {},
   "outputs": [
    {
     "name": "stdout",
     "output_type": "stream",
     "text": [
      "Puedes ir al parque\n"
     ]
    }
   ],
   "source": [
    "#Decimo ejemplo\n",
    "vacaciones = True #Con uno que sea verdadero, \"True\", cambia la respuesta a \"Podemos ir al parque\" como resultado.\n",
    "diaDescanso =False\n",
    "if ( not(vacaciones or diaDescanso)):\n",
    "    print(\"Tienes deberes que hacer\")\n",
    "else:\n",
    "    print(\"Puedes ir al parque\")# Esta linea de codigo es la que debe imprimirse."
   ]
  },
  {
   "cell_type": "markdown",
   "metadata": {},
   "source": [
    "#### Un ejercicio completo con lo visto hasta el momento "
   ]
  },
  {
   "cell_type": "code",
   "execution_count": 8,
   "metadata": {},
   "outputs": [
    {
     "name": "stdout",
     "output_type": "stream",
     "text": [
      "Proporcione los siguientes datos del libro: \n",
      "Proporciona el nombre: Hiperespacio\n",
      "Proporciona el ID: 123098723\n",
      "Proporciona el precio: 460.90\n",
      "Indica si el servicio es gratuito (True/False): True\n",
      "Nombre: Hiperespacio\n",
      "Id: 123098723\n",
      "Precio: 460.9\n",
      "¿Envío Gratuito?: True\n",
      "<class 'bool'>\n"
     ]
    }
   ],
   "source": [
    "#Ejercicio de practica de todo lo visto hasta el momento.\n",
    "print(\"Proporcione los siguientes datos del libro: \")\n",
    "nombre = input(\"Proporciona el nombre: \")\n",
    "id = int(input(\"Proporciona el ID: \"))\n",
    "precio = float(input(\"Proporciona el precio: \"))\n",
    "envioGratuito = input(\"Indica si el servicio es gratuito (True/False): \")\n",
    "\n",
    "if envioGratuito == \"True\":\n",
    "    envioGratuito = True\n",
    "elif envioGratuito == \"False\":\n",
    "    envioGratuito = False\n",
    "else:\n",
    "    envioGratuito = \"Valor incorrecto, debe ser True/False\"\n",
    "   \n",
    "print(\"Nombre:\", nombre)\n",
    "print(\"Id:\", id)\n",
    "print(\"Precio:\", precio)\n",
    "print(\"¿Envío Gratuito?:\", envioGratuito)\n",
    "\n",
    "#Si queremos saber que tipo de dato de \"envioGratuito\"\n",
    "print(type(envioGratuito))"
   ]
  },
  {
   "cell_type": "markdown",
   "metadata": {},
   "source": [
    "Continuara........."
   ]
  },
  {
   "cell_type": "code",
   "execution_count": null,
   "metadata": {},
   "outputs": [],
   "source": []
  }
 ],
 "metadata": {
  "kernelspec": {
   "display_name": "Python 3",
   "language": "python",
   "name": "python3"
  },
  "language_info": {
   "codemirror_mode": {
    "name": "ipython",
    "version": 3
   },
   "file_extension": ".py",
   "mimetype": "text/x-python",
   "name": "python",
   "nbconvert_exporter": "python",
   "pygments_lexer": "ipython3",
   "version": "3.7.6"
  }
 },
 "nbformat": 4,
 "nbformat_minor": 4
}
